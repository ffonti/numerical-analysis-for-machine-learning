{
 "cells": [
  {
   "cell_type": "markdown",
   "metadata": {},
   "source": [
    "<strong>Problem:</strong> ask the user a temperature in Fahrenheit and print the corresponding Celsius value using the formula\n",
    "$$C=\\frac{5}{9}(F-32)$$"
   ]
  },
  {
   "cell_type": "code",
   "execution_count": 1,
   "metadata": {},
   "outputs": [
    {
     "name": "stdout",
     "output_type": "stream",
     "text": [
      "The temperature in Celsius is:  4.444444444444445\n"
     ]
    }
   ],
   "source": [
    "#Function that converts a temperature from Fahrenheit to Celsius\n",
    "def fahrenheit_to_celsius():\n",
    "    fahrenheit = float(fahrenheit_string) #Convert the input to a float\n",
    "    celsius = (fahrenheit - 32) * 5/9 #Convert the temperature to Celsius\n",
    "    return celsius #Return the temperature in Celsius\n",
    "\n",
    "fahrenheit_string = input(\"Enter the temperature in Fahrenheit: \") #Ask the user for the temperature in Fahrenheit\n",
    "print(\"The temperature in Celsius is: \", fahrenheit_to_celsius()) #Print the temperature in Celsius"
   ]
  },
  {
   "cell_type": "markdown",
   "metadata": {},
   "source": [
    "<strong>Excercise 1</strong> Write a Python function for converting from Kelvin to Fahrenheit. The formula is\n",
    "$$F=1.8(K-273.15)+32$$"
   ]
  },
  {
   "cell_type": "code",
   "execution_count": 3,
   "metadata": {},
   "outputs": [
    {
     "name": "stdout",
     "output_type": "stream",
     "text": [
      "The temperature in Fahrenheit is:  -99.66999999999996\n"
     ]
    }
   ],
   "source": [
    "#Function that converts a temperature from Kelvin to Fahrenheit\n",
    "def kelvin_to_fahrenheit():\n",
    "    kelvin = float(kelvin_string) #Convert the input to a float\n",
    "    fahrenheit = 1.8 * (kelvin - 273.15) + 32 #Convert the temperature to Fahrenheit\n",
    "    return fahrenheit #Return the temperature in Fahrenheit\n",
    "\n",
    "kelvin_string = input(\"Enter the temperature in Kelvin: \") #Ask the user the temperature in Kelvin\n",
    "print(\"The temperature in Fahrenheit is: \", kelvin_to_fahrenheit()) #Print the temperature in Celsius"
   ]
  },
  {
   "cell_type": "markdown",
   "metadata": {},
   "source": [
    "<h1>Project 2: van der Waals equation</h1><br>\n",
    "The van der Waals equation of state is a modification of the ideal gas law and it takes into account also the molecular size and the molecular interaction forces. This equation can be written as\n",
    "\n",
    "$$[P+a(\\frac{n}{V})^2](V-nb)=nRT$$\n",
    "\n",
    "where $P[Pa]$ is the pressure, $V[m^3]$ is the volume, $T[K]$ is the temperature, $n$ is the number of moles, $R=8,314[J/(mol*K)]$ is the gas constant, finally $a[P$ $a$ $m^6/mol^2]$ and $b[m^3/mol]$ are the van der Waals coefficients characterizing different gases. In the following table values of $a$ and $b$ are reported for some gases.\n",
    "\n",
    "<table>\n",
    "    <tr>\n",
    "        <th>Gas</th>\n",
    "        <th>a</th>\n",
    "        <th>b</th>\n",
    "    </tr>\n",
    "    <tr>\n",
    "        <td>Helium</td>\n",
    "        <td>3.46e-3</td>\n",
    "        <td>23.71e-6</td>\n",
    "    </tr>\n",
    "    <tr>\n",
    "        <td>Neon</td>\n",
    "        <td>2.21e-2</td>\n",
    "        <td>17.10e-6</td>\n",
    "    </tr>\n",
    "    <tr>\n",
    "        <td>Hydrogen</td>\n",
    "        <td>2.45e-2</td>\n",
    "        <td>26.61e-6</td>\n",
    "    </tr>\n",
    "    <tr>\n",
    "        <td>Carbon dioxide</td>\n",
    "        <td>3.96e-1</td>\n",
    "        <td>42.69e-6</td>\n",
    "    </tr>\n",
    "    <tr>\n",
    "        <td>Water vapor</td>\n",
    "        <td>5.47e-1</td>\n",
    "        <td>30.52e-6</td>\n",
    "    </tr>\n",
    "    <tr>\n",
    "        <td>Oxygen</td>\n",
    "        <td>1.38e-1</td>\n",
    "        <td>31.86e-6</td>\n",
    "    </tr>\n",
    "</table>\n",
    "\n",
    "<strong>Problem:</strong> write a Python function that computes the pressure given by the temperature and the volume for a real gas. The input parameter of the function should be $T, V, n, a,$ and $b$; the output is the pressure P."
   ]
  },
  {
   "cell_type": "code",
   "execution_count": 30,
   "metadata": {},
   "outputs": [
    {
     "name": "stdout",
     "output_type": "stream",
     "text": [
      "Enter one of these gases: \n",
      "helium\n",
      "neon\n",
      "hydrogen\n",
      "carbon_dioxide\n",
      "water_vapor\n",
      "oxygen\n",
      "273.15 0.001 1.0 0.138 3.186e-05\n",
      "Pressure P is:  2.207703e+06\n"
     ]
    }
   ],
   "source": [
    "#Table of van der Waals constants for different gases\n",
    "table = {\n",
    "    'helium': {\n",
    "        'a': 3.46e-3,\n",
    "        'b': 23.71e-6\n",
    "    },\n",
    "    'neon': {\n",
    "        'a': 2.21e-2,\n",
    "        'b': 17.10e-6\n",
    "    },\n",
    "    'hydrogen': {\n",
    "        'a': 2.45e-2,\n",
    "        'b': 26.61e-6\n",
    "    },\n",
    "    'carbon_dioxide': {\n",
    "        'a': 3.96e-1,\n",
    "        'b': 42.69e-6\n",
    "    },\n",
    "    'water_vapor': {\n",
    "        'a': 5.47e-1,\n",
    "        'b': 30.52e-6\n",
    "    },\n",
    "    'oxygen': {\n",
    "        'a': 1.38e-1,\n",
    "        'b': 31.86e-6\n",
    "    }\n",
    "}\n",
    "R = 8.314 #Ideal gas constant\n",
    "\n",
    "#Function that calculates the pressure of a gas using the van der Waals equation\n",
    "def vanderwaals(T, V, n, a=1.38e-1, b=31.86e-6):\n",
    "    P = n*R*T / (V-n*b)-a*n**2/V**2 #Calculate the pressure using the van der Waals equation\n",
    "    return P #Return the pressure\n",
    "\n",
    "print(\"Enter one of these gases: \") #Print the gases that the user can choose from\n",
    "for gas in table: #Iterate over the gases in the table\n",
    "    print(gas) #Print the name of the gas\n",
    "gas_selected = input() #Ask the user for the gas\n",
    "T = float(input(\"Enter the temperature T[K]: \")) #Ask the user for the temperature\n",
    "V = float(input(\"Enter the volume V[m^3]: \")) #Ask the user for the volume\n",
    "n = float(input(\"Enter the number of moles: \")) #Ask the user for the number of moles\n",
    "if gas_selected not in table: #Check if the gas is not in the table\n",
    "    P = vanderwaals(T, V, n) #Calculate the pressure using the van der Waals equation with the default values of a and b for oxygen\n",
    "else: #If the gas is in the table\n",
    "    P = vanderwaals(T, V, n, table[gas_selected]['a'], table[gas_selected]['b']) #Calculate the pressure using the van der Waals equation\n",
    "print(\"Pressure P is: \", \"{:e}\".format(P)) #Print the pressure"
   ]
  },
  {
   "cell_type": "markdown",
   "metadata": {},
   "source": [
    "<strong>Excerise 3.</strong> Write a Python function that computes the lengths of the edges $b$ and $c$ of a right triangle given the length of the hypotenuse $a$ and the amplitude of one the angle $g$ (see the following figure). <br>\n",
    "Hint: the function $sin$ and $cos$ belong to the $math$ module. Try $help(math)$ to see the content of the module!\n",
    "\n",
    "$c=a$ $sin(g)$\n",
    "$$ $$\n",
    "$b=a$ $cos(g)$"
   ]
  },
  {
   "cell_type": "code",
   "execution_count": 32,
   "metadata": {},
   "outputs": [
    {
     "name": "stdout",
     "output_type": "stream",
     "text": [
      "Edges' length is\n",
      "b =  0.6170057995503362 \n",
      "c =  -3.9521264963714473\n"
     ]
    }
   ],
   "source": [
    "from math import sin, cos #Import the sin and cos functions from the math module\n",
    "\n",
    "#Function that calculates the lengths of the edges of a right triangle\n",
    "def find_lengths():\n",
    "    c = a*sin(g) #Calculate the length of the edge c\n",
    "    b = a*cos(g) #Calculate the length of the edge b\n",
    "    print(\"Edges' lengths are\\nb = \", b, \"\\nc = \", c) #Print the lengths of the edges\n",
    "\n",
    "a = float(input(\"Enter the hypotenuse: \")) #Ask the user for the hypotenuse\n",
    "g = float(input(\"Enter the angle: \")) #Ask the user for the angle\n",
    "find_lengths() #Call the function that calculates the lengths of the edges of the right triangle"
   ]
  },
  {
   "cell_type": "markdown",
   "metadata": {},
   "source": [
    "<strong>Project.</strong> We want to write a function that is able to perform conversion from Fahrenheit to Kelvin and viceversa."
   ]
  },
  {
   "cell_type": "code",
   "execution_count": 45,
   "metadata": {},
   "outputs": [
    {
     "name": "stdout",
     "output_type": "stream",
     "text": [
      "The temperature converted is:  -279.66999999999996\n"
     ]
    }
   ],
   "source": [
    "#Function that calculates the area of a triangle\n",
    "def convtemp():\n",
    "    temp_value = float(temp[0:-1]) #Convert the input to a float\n",
    "    temp_type = temp[-1].upper() #Convert the measure to uppercase\n",
    "    if temp_type == 'K': #Check if the measure is Kelvin\n",
    "        temp_converted = 1.8 * (temp_value - 273.15) + 32 #Convert the temperature to Fahrenheit\n",
    "    elif temp_type == 'F': #Check if the measure is Fahrenheit\n",
    "        temp_converted = (temp_value - 32) * 5/9 + 273.15 #Convert the temperature to Kelvin\n",
    "    else: #If the measure is not Kelvin or Fahrenheit\n",
    "        print(\"Enter a valid measure\") #Print an error message\n",
    "        return None #Return None\n",
    "    return temp_converted #Return the temperature converted\n",
    "\n",
    "temp = input(\"Enter the temperature with the measure (es. 10K or 200F): \") #Ask the user for the temperature\n",
    "temp_converted = convtemp() #Call the function that converts the temperature\n",
    "if temp_converted is not None: #Check if the temperature is not None\n",
    "    print(\"The temperature converted is: \", temp_converted) #Print the temperature converted"
   ]
  }
 ],
 "metadata": {
  "kernelspec": {
   "display_name": "Python 3",
   "language": "python",
   "name": "python3"
  },
  "language_info": {
   "codemirror_mode": {
    "name": "ipython",
    "version": 3
   },
   "file_extension": ".py",
   "mimetype": "text/x-python",
   "name": "python",
   "nbconvert_exporter": "python",
   "pygments_lexer": "ipython3",
   "version": "3.12.5"
  }
 },
 "nbformat": 4,
 "nbformat_minor": 2
}
