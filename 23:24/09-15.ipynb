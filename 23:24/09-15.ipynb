{
 "cells": [
  {
   "cell_type": "markdown",
   "metadata": {},
   "source": [
    "<strong>Problem:</strong> ask the user a temperature in Fahrenheit and print the corresponding Celsius value using the formula\n",
    "$$C=\\frac{5}{9}(F-32)$$"
   ]
  },
  {
   "cell_type": "code",
   "execution_count": 4,
   "metadata": {},
   "outputs": [
    {
     "name": "stdout",
     "output_type": "stream",
     "text": [
      "The temperature in Celsius is:  0.0\n"
     ]
    }
   ],
   "source": [
    "fahrenheit_string = input(\"Enter the temperature in Fahrenheit: \") #Ask the user for the temperature in Fahrenheit\n",
    "fahrenheit = float(fahrenheit_string) #Convert the input to a float\n",
    "celsius = (fahrenheit - 32) * 5/9 #Convert the temperature to Celsius\n",
    "print(\"The temperature in Celsius is: \", celsius) #Print the temperature in Celsius"
   ]
  }
 ],
 "metadata": {
  "kernelspec": {
   "display_name": "Python 3",
   "language": "python",
   "name": "python3"
  },
  "language_info": {
   "codemirror_mode": {
    "name": "ipython",
    "version": 3
   },
   "file_extension": ".py",
   "mimetype": "text/x-python",
   "name": "python",
   "nbconvert_exporter": "python",
   "pygments_lexer": "ipython3",
   "version": "3.12.5"
  }
 },
 "nbformat": 4,
 "nbformat_minor": 2
}
