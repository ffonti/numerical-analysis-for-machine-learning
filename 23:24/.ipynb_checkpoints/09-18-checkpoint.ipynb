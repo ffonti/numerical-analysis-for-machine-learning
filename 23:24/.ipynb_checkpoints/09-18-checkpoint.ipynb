{
 "cells": [
  {
   "cell_type": "code",
   "execution_count": 15,
   "id": "9cb0f6fe-a755-45b5-b4ec-394e5aca9083",
   "metadata": {},
   "outputs": [
    {
     "name": "stdout",
     "output_type": "stream",
     "text": [
      "92\n"
     ]
    }
   ],
   "source": [
    "def romanToDecimal(Roman):\n",
    "    Decimal = 0\n",
    "    symbols = {\n",
    "        'I': 1,\n",
    "        'V': 5,\n",
    "        'X': 10,\n",
    "        'L': 50,\n",
    "        'C': 100,\n",
    "        'D': 500,\n",
    "        'M': 1000\n",
    "    }\n",
    "    \n",
    "    for i in range(len(Roman)-1):\n",
    "        left = Roman[i]\n",
    "        right = Roman[i+1]\n",
    "        if symbols[left] < symbols[right]:\n",
    "            Decimal -= symbols[left]\n",
    "        else:\n",
    "            Decimal += symbols[left]\n",
    "        Decimal += symbols[Roman[-1]]\n",
    "    return Decimal\n",
    "\n",
    "print(romanToDecimal('XCI'))"
   ]
  },
  {
   "cell_type": "raw",
   "id": "2f254144-75c3-405f-9f03-bac30bed8e94",
   "metadata": {},
   "source": [
    "Excercise. Write a Python function that converts an integer into its binary format.\n",
    "Hint: Consider the following example where we want to convert 13 to its binary format:\n",
    "    13:2 = 6 with remainder 1\n",
    "    6:2 = 3 with remainder 0\n",
    "    3:2 = 1 with remainder 1\n",
    "    1:2 = 0 with remainder 1\n",
    "now let us take the remainders in reverse order i.e. 1101, this is the binary format of 13."
   ]
  },
  {
   "cell_type": "code",
   "execution_count": 24,
   "id": "c7eee75b-cd26-4436-8cd6-1b5192152fe6",
   "metadata": {},
   "outputs": [
    {
     "ename": "AttributeError",
     "evalue": "'NoneType' object has no attribute 'append'",
     "output_type": "error",
     "traceback": [
      "\u001b[0;31m---------------------------------------------------------------------------\u001b[0m",
      "\u001b[0;31mAttributeError\u001b[0m                            Traceback (most recent call last)",
      "Cell \u001b[0;32mIn[24], line 8\u001b[0m\n\u001b[1;32m      6\u001b[0m         remainders \u001b[38;5;241m=\u001b[39m remainders\u001b[38;5;241m.\u001b[39mreverse()\n\u001b[1;32m      7\u001b[0m     \u001b[38;5;28;01mreturn\u001b[39;00m remainders\n\u001b[0;32m----> 8\u001b[0m \u001b[38;5;28mprint\u001b[39m(\u001b[43mdecimalToBinary\u001b[49m\u001b[43m(\u001b[49m\u001b[38;5;241;43m13\u001b[39;49m\u001b[43m)\u001b[49m)\n",
      "Cell \u001b[0;32mIn[24], line 4\u001b[0m, in \u001b[0;36mdecimalToBinary\u001b[0;34m(decimal)\u001b[0m\n\u001b[1;32m      2\u001b[0m remainders \u001b[38;5;241m=\u001b[39m \u001b[38;5;28mlist\u001b[39m()\n\u001b[1;32m      3\u001b[0m \u001b[38;5;28;01mwhile\u001b[39;00m decimal \u001b[38;5;241m!=\u001b[39m \u001b[38;5;241m0\u001b[39m:\n\u001b[0;32m----> 4\u001b[0m     \u001b[43mremainders\u001b[49m\u001b[38;5;241;43m.\u001b[39;49m\u001b[43mappend\u001b[49m(decimal\u001b[38;5;241m%\u001b[39m\u001b[38;5;241m2\u001b[39m)\n\u001b[1;32m      5\u001b[0m     decimal \u001b[38;5;241m=\u001b[39m decimal\u001b[38;5;241m/\u001b[39m\u001b[38;5;241m2\u001b[39m\n\u001b[1;32m      6\u001b[0m     remainders \u001b[38;5;241m=\u001b[39m remainders\u001b[38;5;241m.\u001b[39mreverse()\n",
      "\u001b[0;31mAttributeError\u001b[0m: 'NoneType' object has no attribute 'append'"
     ]
    }
   ],
   "source": [
    "def decimalToBinary(decimal):\n",
    "    remainders = list()\n",
    "    while decimal != 0:\n",
    "        remainders.append(decimal%2)\n",
    "        decimal = decimal/2\n",
    "        remainders = remainders.reverse()\n",
    "    return remainders\n",
    "print(decimalToBinary(13))"
   ]
  },
  {
   "cell_type": "code",
   "execution_count": null,
   "id": "6eba6fae-d694-474f-bf76-f9a798c0f751",
   "metadata": {},
   "outputs": [],
   "source": []
  }
 ],
 "metadata": {
  "kernelspec": {
   "display_name": "Python 3 (ipykernel)",
   "language": "python",
   "name": "python3"
  },
  "language_info": {
   "codemirror_mode": {
    "name": "ipython",
    "version": 3
   },
   "file_extension": ".py",
   "mimetype": "text/x-python",
   "name": "python",
   "nbconvert_exporter": "python",
   "pygments_lexer": "ipython3",
   "version": "3.12.5"
  }
 },
 "nbformat": 4,
 "nbformat_minor": 5
}
