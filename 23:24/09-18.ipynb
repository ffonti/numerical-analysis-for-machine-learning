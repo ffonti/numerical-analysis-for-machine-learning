{
 "cells": [
  {
   "cell_type": "code",
   "execution_count": 1,
   "id": "9cb0f6fe-a755-45b5-b4ec-394e5aca9083",
   "metadata": {},
   "outputs": [
    {
     "name": "stdout",
     "output_type": "stream",
     "text": [
      "92\n"
     ]
    }
   ],
   "source": [
    "def romanToDecimal(Roman):\n",
    "    Decimal = 0\n",
    "    symbols = {\n",
    "        'I': 1,\n",
    "        'V': 5,\n",
    "        'X': 10,\n",
    "        'L': 50,\n",
    "        'C': 100,\n",
    "        'D': 500,\n",
    "        'M': 1000\n",
    "    }\n",
    "    \n",
    "    for i in range(len(Roman)-1):\n",
    "        left = Roman[i]\n",
    "        right = Roman[i+1]\n",
    "        if symbols[left] < symbols[right]:\n",
    "            Decimal -= symbols[left]\n",
    "        else:\n",
    "            Decimal += symbols[left]\n",
    "        Decimal += symbols[Roman[-1]]\n",
    "    return Decimal\n",
    "\n",
    "print(romanToDecimal('XCI'))"
   ]
  },
  {
   "cell_type": "markdown",
   "id": "5d0f876d",
   "metadata": {},
   "source": [
    "Excercise. Write a Python function that converts an integer into its binary format.\n",
    "Hint: Consider the following example where we want to convert 13 to its binary format:\n",
    "    13:2 = 6 with remainder 1\n",
    "    6:2 = 3 with remainder 0\n",
    "    3:2 = 1 with remainder 1\n",
    "    1:2 = 0 with remainder 1\n",
    "now let us take the remainders in reverse order i.e. 1101, this is the binary format of 13."
   ]
  },
  {
   "cell_type": "code",
   "execution_count": 7,
   "id": "c7eee75b-cd26-4436-8cd6-1b5192152fe6",
   "metadata": {},
   "outputs": [
    {
     "name": "stdout",
     "output_type": "stream",
     "text": [
      "1101\n"
     ]
    }
   ],
   "source": [
    "def decimalToBinary(decimal):\n",
    "    resti = []\n",
    "    while decimal > 0:\n",
    "        resti.append(decimal % 2)\n",
    "        decimal = decimal // 2\n",
    "    return ''.join(map(str, resti[::-1]))\n",
    "print(decimalToBinary(13))"
   ]
  },
  {
   "cell_type": "markdown",
   "id": "e7f4dcac",
   "metadata": {},
   "source": [
    "<h1>Fibonacci numbers. Recursive functions</h1>\n",
    "<strong>Problem.</strong>The well known Fibonacci sequence is defined by the following recursive relation:\n",
    "\n",
    "$$\n",
    "F(n) = \n",
    "\\begin{cases} \n",
    "0 & \\text{if } n = 0 \\\\\n",
    "1 & \\text{if } n = 1 \\\\\n",
    "F(n-1) + F(n-2) & \\text{if } n > 1 \n",
    "\\end{cases}\n",
    "$$"
   ]
  },
  {
   "cell_type": "code",
   "execution_count": 8,
   "id": "46c32de7",
   "metadata": {},
   "outputs": [
    {
     "name": "stdout",
     "output_type": "stream",
     "text": [
      "55\n"
     ]
    }
   ],
   "source": [
    "def recfib(n):\n",
    "    if n<=1:\n",
    "        return n\n",
    "    else:\n",
    "        return recfib(n-1) + recfib(n-2)\n",
    "print(recfib(10))"
   ]
  }
 ],
 "metadata": {
  "kernelspec": {
   "display_name": "Python 3 (ipykernel)",
   "language": "python",
   "name": "python3"
  },
  "language_info": {
   "codemirror_mode": {
    "name": "ipython",
    "version": 3
   },
   "file_extension": ".py",
   "mimetype": "text/x-python",
   "name": "python",
   "nbconvert_exporter": "python",
   "pygments_lexer": "ipython3",
   "version": "3.12.5"
  }
 },
 "nbformat": 4,
 "nbformat_minor": 5
}
