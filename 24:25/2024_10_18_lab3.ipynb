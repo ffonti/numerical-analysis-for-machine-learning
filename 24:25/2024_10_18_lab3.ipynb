{
 "cells": [
  {
   "cell_type": "markdown",
   "metadata": {},
   "source": [
    "<h1>Matrix completion and reccomender systems</h1>\n",
    "<p>MovieLens datasets were collected by the GroupLens Research Project at the University of Minnesota.\n",
    "This data set consists of:</p>\n",
    "<ul>\n",
    "<li>100,000 ratings (1-5) from 943 users on 1682 movies.</li>\n",
    "<li>Each user has rated at least 20 movies.</li>\n",
    "</ul>\n",
    "<p>The movielens.csv file contains the full dataset. Users and items are numbered consecutively from 1. The data is randomly ordered. <br>This is a tab separated list of user id | item id | rating | timestamp.</p>"
   ]
  },
  {
   "cell_type": "code",
   "execution_count": 1,
   "metadata": {},
   "outputs": [],
   "source": [
    "import pandas as pd\n",
    "import numpy as np\n",
    "import matplotlib.pyplot as plt\n",
    "from scipy.sparse import csr_matrix\n",
    "from scipy.stats import pearsonr"
   ]
  },
  {
   "cell_type": "markdown",
   "metadata": {},
   "source": [
    "Read the dataset from the movielens.csv file"
   ]
  },
  {
   "cell_type": "code",
   "execution_count": null,
   "metadata": {},
   "outputs": [],
   "source": [
    "dataset = pd.read_csv('movielens.csv', sep='\\t', header=None)\n",
    "dataset.describe()"
   ]
  },
  {
   "cell_type": "markdown",
   "metadata": {},
   "source": [
    "How many movies? How many users? How many ratings?"
   ]
  },
  {
   "cell_type": "code",
   "execution_count": null,
   "metadata": {},
   "outputs": [],
   "source": [
    "movies = dataset[1]\n",
    "ratings = dataset[2]\n",
    "users = dataset[0]\n",
    "\n",
    "n_movies = movies.unique().size\n",
    "n_users = users.unique().size\n",
    "n_ratings = ratings.unique().size"
   ]
  },
  {
   "cell_type": "markdown",
   "metadata": {},
   "source": [
    "Shuffle the data (see the function np.random.shuffle)."
   ]
  },
  {
   "cell_type": "code",
   "execution_count": null,
   "metadata": {},
   "outputs": [],
   "source": [
    "np.random.seed(0)\n",
    "idxs = np.arange(len(dataset))\n",
    "np.random.shuffle(idxs)\n",
    "\n",
    "movies = movies[idxs]\n",
    "ratings = ratings[idxs]\n",
    "users = users[idxs]"
   ]
  },
  {
   "cell_type": "markdown",
   "metadata": {},
   "source": [
    "Split the dataset into a subset of 80,000 training and 20,000 testing ratings."
   ]
  },
  {
   "cell_type": "code",
   "execution_count": null,
   "metadata": {},
   "outputs": [],
   "source": [
    "n_training = int(0.8 * len(dataset))\n",
    "\n",
    "users_train = users[:n_training] - 1\n",
    "movies_train = movies[:n_training] - 1\n",
    "ratings_train = ratings[:n_training]\n",
    "\n",
    "users_test = users[n_training:] - 1\n",
    "movies_test = movies[n_training:] - 1\n",
    "ratings_test = ratings[n_training:]"
   ]
  },
  {
   "cell_type": "markdown",
   "metadata": {},
   "source": [
    "Let us denote by $\\Omega$ the set of pairs (i, j) such that the rating of the i-th user on the j-th movie is available in the training set (similarly, $\\Omega_test$ is the set of testing pairs). Let us denote by $r_{ij}$ the corresponding rating.\n",
    "<br>\n",
    "Create a full matrix $X \\in \\mathbb{R}^{n \\times p}$, such that:\n",
    "$$\n",
    "X_{ij} = \\begin{cases}\n",
    "r_{ij} & \\text{if } (i, j) \\in \\Omega \\\\\n",
    "0 & \\text{otherwise}\n",
    "\\end{cases}\n",
    "$$"
   ]
  },
  {
   "cell_type": "code",
   "execution_count": null,
   "metadata": {},
   "outputs": [],
   "source": [
    "X_sparse = csr_matrix((ratings_train, (users_train, movies_train)), shape=(n_users, n_movies))\n",
    "X_full = X_sparse.toarray()"
   ]
  },
  {
   "cell_type": "markdown",
   "metadata": {},
   "source": [
    "<h1>Trivial recommender system</h1>\n",
    "Create a trivial recommender system, based on the average rating of each user:\n",
    "\n",
    "$$\n",
    "r^{pred}_{ij} = \\frac{1}{N_i} \\sum_{j:(i,j)\\in \\Omega} r_{ij}\n",
    "$$\n",
    "\n",
    "where $N_i$ = card $\\{j:(i,j)\\in \\Omega\\}$ is the number of ratings of user i in the training set.\n",
    "<br>\n",
    "Then compute the RSME (Root Mean Square Error) on the test set:\n",
    "\n",
    "$$\n",
    "\\text{RMSE} = \\sqrt{\\frac{1}{card(|\\Omega_{test}|)} \\sum_{(i,j)\\in \\Omega_{test}} (r_{ij} - r^{pred}_{ij})^2}\n",
    "$$\n",
    "\n",
    "and the Pearson correlation coefficient $\\rho$ (use the function scipy.stats.pearsonr).\n",
    "\n",
    "$$\n",
    "\\rho = \\frac{\\sum_{(i,j)\\in \\Omega_{test}} (r_{ij} - \\bar{r}) (r^{pred}_{ij} - \\bar{r}^{pred})}{\\sqrt{\\sum_{(i,j)\\in \\Omega_{test}} (r_{ij} - \\bar{r})^2} \\sqrt{\\sum_{(i,j)\\in \\Omega_{test}} (r^{pred}_{ij} - \\bar{r}^{pred})^2}}\n",
    "$$\n",
    "\n",
    "where\n",
    "\n",
    "$$\n",
    "\\bar{r} = \\frac{1}{card(|\\Omega_{test}|)} \\sum_{(i,j)\\in \\Omega_{test}} r_{ij}\n",
    "$$\n",
    "\n",
    "$$\n",
    "\\bar{r}^{pred} = \\frac{1}{card(|\\Omega_{test}|)} \\sum_{(i,j)\\in \\Omega_{test}} r^{pred}_{ij}\n",
    "$$"
   ]
  },
  {
   "cell_type": "code",
   "execution_count": null,
   "metadata": {},
   "outputs": [],
   "source": [
    "avg_rating = np.array([np.mean(ratings_train[users_train == i]) for i in range(n_users)])\n",
    "\n",
    "#avg_ratings = []\n",
    "#for i in range(n_users):\n",
    "#    users_i_ratings = ratings_train[users_train == i]\n",
    "#    avg_ratings.append(np.mean(users_i_ratings))\n",
    "\n",
    "rating_prediction_baseline = avg_rating[users_test]\n",
    "error_baseline = rating_prediction_baseline - ratings_test\n",
    "\n",
    "def RMSE(e):\n",
    "    return np.sqrt(np.mean(e**2))\n",
    "\n",
    "RSME_baseline = RMSE(error_baseline)\n",
    "rho_baseline = pearsonr(rating_prediction_baseline, ratings_test)"
   ]
  },
  {
   "cell_type": "markdown",
   "metadata": {},
   "source": [
    "<h1>Singular value truncation (SVT) based recommender system</h1>\n",
    "Implement the SVT algorithm to predict the ratings of the testing set. Set a maximum number of iterations equal to 100. Print the RMSE and $\\rho$ at each iteration. Finally, plot the trend of both metrics.\n",
    "<br>\n",
    "Try to calibrate the threshold to get better results."
   ]
  },
  {
   "cell_type": "code",
   "execution_count": null,
   "metadata": {},
   "outputs": [],
   "source": [
    "nmax_iter = 100\n",
    "threshold = 100.0\n",
    "increment_toll =1e-3\n",
    "\n",
    "RMSE_svt = []\n",
    "rho_svt = []\n",
    "\n",
    "X = np.copy(X_full)\n",
    "for i in range(nmax_iter):\n",
    "    #SVT iteration\n",
    "    X_old = np.copy(X)\n",
    "    U, s, VT = np.linalg.svd(X, full_matrices=False)\n",
    "\n",
    "    s[s<threshold] = 0\n",
    "    X = U @ np.diag(s) @ VT\n",
    "    X[users_train, movies_train] = X_full[users_train, movies_train]\n",
    "    increment = np.linalg.norm(X - X_old)\n",
    "\n",
    "    #Evaluate X^k\n",
    "    predicted_ratings = X[users_test, movies_test]\n",
    "    error = predicted_ratings - ratings_test\n",
    "    RMSE_svt.append(RMSE(error))\n",
    "    rho_svt.append(pearsonr(predicted_ratings, ratings_test)[0])\n",
    "\n",
    "    #Print the iteration\n",
    "    print(f'Iteration {i+1}/{nmax_iter} RMSE={RMSE_svt[-1]} rho={rho_svt[-1]} increment={increment}')\n",
    "\n",
    "    #Exit condition\n",
    "    if increment < increment_toll:\n",
    "        break"
   ]
  },
  {
   "cell_type": "markdown",
   "metadata": {},
   "source": [
    "<h1>Moore-Penrose pseudo inverse</h1>"
   ]
  },
  {
   "cell_type": "code",
   "execution_count": 16,
   "metadata": {},
   "outputs": [],
   "source": [
    "import numpy as np\n",
    "import scipy.linalg as la\n",
    "import matplotlib.pyplot as plt\n",
    "\n",
    "#Write a function that computes the Moore-Penrose pseudoinverse of a matrix, exploiting its SVD decomposition.\n",
    "def my_pinv_fullSVD(A):\n",
    "    U, s, VT = np.linalg.svd(A, full_matrices=True)\n",
    "    s[s>0]=1/s[s>0]\n",
    "    return VT.T @ la.diagsvd(s, VT.shape[1], VT.shape[0]) @ U.T\n",
    "\n",
    "#Write now a function that computes the Moore-Penrose pseudoinverse of a matrix, exploiting the reduced SVD decomposition.\n",
    "def my_pinv_thinSVD(A):\n",
    "    U, s, VT = np.linalg.svd(A, full_matrices=False)\n",
    "    s[s>0]=1/s[s>0]\n",
    "    return VT.T @ np.diag(s) @ U.T\n"
   ]
  },
  {
   "cell_type": "markdown",
   "metadata": {},
   "source": [
    "Generate a random matrix A (with elements sampled from a standard Gaussian distribution) with 5 rows and 4 columns. Compute its Moore-Penrose pseudo inverse through the two functions above defined, and compare the results with the function numpy.linalg.pinv."
   ]
  },
  {
   "cell_type": "code",
   "execution_count": null,
   "metadata": {},
   "outputs": [],
   "source": [
    "A = np.random.randn(5, 4)\n",
    "Apinv_np = np.linalg.pinv(A)\n",
    "Apinv_thin = my_pinv_thinSVD(A)\n",
    "Apinv_full = my_pinv_fullSVD(A)\n",
    "\n",
    "print(np.linalg.norm(Apinv_np - Apinv_thin) / np.linalg.norm(Apinv_np))\n",
    "print(np.linalg.norm(Apinv_np - Apinv_full) / np.linalg.norm(Apinv_np))"
   ]
  },
  {
   "cell_type": "markdown",
   "metadata": {},
   "source": [
    "Compare the three implementations through the command %timeit."
   ]
  },
  {
   "cell_type": "code",
   "execution_count": 12,
   "metadata": {},
   "outputs": [
    {
     "name": "stdout",
     "output_type": "stream",
     "text": [
      "12.9 μs ± 168 ns per loop (mean ± std. dev. of 7 runs, 100,000 loops each)\n"
     ]
    }
   ],
   "source": [
    "%timeit np.linalg.pinv(A)"
   ]
  },
  {
   "cell_type": "code",
   "execution_count": 17,
   "metadata": {},
   "outputs": [
    {
     "name": "stdout",
     "output_type": "stream",
     "text": [
      "10.9 μs ± 140 ns per loop (mean ± std. dev. of 7 runs, 100,000 loops each)\n"
     ]
    }
   ],
   "source": [
    "%timeit my_pinv_thinSVD(A)"
   ]
  },
  {
   "cell_type": "code",
   "execution_count": null,
   "metadata": {},
   "outputs": [],
   "source": [
    "%timeit my_pinv_fullSVD(A)"
   ]
  },
  {
   "cell_type": "markdown",
   "metadata": {},
   "source": [
    "<h1>Least-square regression</h1>\n",
    "Consider the linear model\n",
    "\n",
    "$$\n",
    "y = mx + q\n",
    "$$\n",
    "\n",
    "where m=2 and q=3.\n",
    "<br>\n",
    "Generate N=100 points $x_i$, sampling from a standard Gaussian distribution, and the associated $y_i$. Then, add a synthetic noise $\\epsilon_i$ by sampling from a Gaussian distribution with zero mean and standard variation $\\sigma=2$. Plot the noisy data $(x_i, \\tilde{y}_i)$, where $\\tilde{y}_i = y_i + \\epsilon_i$, in the (x, y) plane, toghether with the line y=mx+q."
   ]
  },
  {
   "cell_type": "code",
   "execution_count": 20,
   "metadata": {},
   "outputs": [
    {
     "data": {
      "text/plain": [
       "[<matplotlib.lines.Line2D at 0x10c1f4a40>]"
      ]
     },
     "execution_count": 20,
     "metadata": {},
     "output_type": "execute_result"
    },
    {
     "data": {
      "image/png": "[encoded data removed]",
      "text/plain": [
       "<Figure size 640x480 with 1 Axes>"
      ]
     },
     "metadata": {},
     "output_type": "display_data"
    }
   ],
   "source": [
    "m = 2.0\n",
    "q = 3.0\n",
    "N = 100\n",
    "noise = 2.0\n",
    "\n",
    "X = np.random.rand(N)\n",
    "Y = m*X + q + noise*np.random.randn(N)\n",
    "\n",
    "plt.scatter(X, Y)\n",
    "plt.plot(X, m*X+q)"
   ]
  },
  {
   "cell_type": "markdown",
   "metadata": {},
   "source": [
    "Use the previously implemented function to compute the Moore-Penrose pseudo inverse, solve the last-squares problem\n",
    "\n",
    "$$\n",
    "\\min_{m, q} \\sum_{i=1}^N (\\tilde{y}_i - (mx_i + q))^2\n",
    "$$\n",
    "\n",
    "and display the regression line superimposed to the noisy data and the exact model.\n",
    "<br>\n",
    "Repeat the excercise by solving the normal equations. Compare the results"
   ]
  },
  {
   "cell_type": "code",
   "execution_count": null,
   "metadata": {},
   "outputs": [],
   "source": [
    "Phi = np.hstack((X[:, np.newaxis], np.ones((N, 1))))\n",
    "w = my_pinv_thinSVD(Phi) @ Y\n",
    "print(f\"predicted m: {w[0]:.2t}, correct m: {m}\")\n",
    "print(f\"predicted q: {w[1]:.2f}, correct q: {q}\")\n",
    "\n",
    "plt.scatter(X, Y)\n",
    "plt.plot(X, m * X + q, 'r--')\n",
    "plt.plot(X, m * X + q, 'g: ')\n",
    "\n",
    "w2 = np.linalg.solve(Phi.T @ Phi, Phi.T @ Y)\n",
    "print(np.linalg.norm(w-w2))"
   ]
  },
  {
   "cell_type": "markdown",
   "metadata": {},
   "source": [
    "<h1>Ridge regression and Kernel regression</h1>\n",
    "Consider the matrix\n",
    "\n",
    "$$\n",
    "y = f(x) = tanh(2x-1)\n",
    "$$\n",
    "\n",
    "Generate N=100 points $x_i$, sampling from a standard Gaussian distribution, and the associated $y_i$. Then, add a synthetic noise $\\epsilon_i$ by sampling from a Gaussian distribution with zero mean and standard deviation $\\sigma=0.1$. Plot the noisy data $(x_i, \\tilde{y}_i)$, where $\\tilde{y}_i = y_i + \\epsilon_i$, in the (x, y) plane.\n",
    "<br>\n",
    "Then, generate 1000 testing points, uniformly distributed in the interval [-3, 3], and display the function $y=f(x)$ in correspondence of the testing points."
   ]
  },
  {
   "cell_type": "code",
   "execution_count": 25,
   "metadata": {},
   "outputs": [
    {
     "data": {
      "text/plain": [
       "<matplotlib.legend.Legend at 0x10b5066f0>"
      ]
     },
     "execution_count": 25,
     "metadata": {},
     "output_type": "execute_result"
    },
    {
     "data": {
      "image/png": "[encoded data removed]",
      "text/plain": [
       "<Figure size 640x480 with 1 Axes>"
      ]
     },
     "metadata": {},
     "output_type": "display_data"
    }
   ],
   "source": [
    "N = 100\n",
    "noise = 0.1\n",
    "y_ex = lambda x: np.tanh(2*(x-1))\n",
    "\n",
    "X = np.random.randn(N)\n",
    "Y = y_ex(X) + noise*np.random.randn(N)\n",
    "\n",
    "N_test = 1000\n",
    "X_test = np.linspace(-3, 3, N_test)\n",
    "Y_test = y_ex(X_test)\n",
    "\n",
    "plt.scatter(X, Y, label='data')\n",
    "plt.plot(X_test, Y_test, color='black', label='$y_{ex}(x)$')\n",
    "plt.legend()"
   ]
  },
  {
   "cell_type": "markdown",
   "metadata": {},
   "source": [
    "Proceeding as in the previous excercise, compute the regression line resulting from the least squares regression of data $(x_i, \\tilde{y}_i)$. Plot the resulting regression line.<br>\n",
    "Let us now consider ridge regression, corresponding to a regularization parameter $\\lambda=1.0$. Compare the obtained regression line with the one obtained through least squares regression.<br>"
   ]
  },
  {
   "cell_type": "code",
   "execution_count": null,
   "metadata": {},
   "outputs": [],
   "source": [
    "lam = 10.0\n",
    "alpha = np.linalg.solve(Phi @ Phi.T + lam * np.eye(N), Y)\n",
    "w = Phi.T @ alpha\n",
    "\n",
    "Phi_test = np.hstack([X_test[:, None], np.ones ((N_test, 1) )])\n",
    "Y_test = Phi_test @ w\n",
    "\n",
    "plt.scatter(X, Y, label=\"data\") \n",
    "plt.plot(X_test, Y_test_ex, \"r--\", label=\"$y_{ex}(x)$\")\n",
    "plt.plot(X_test, Y_test, \"g:\", label=\"Ridge regression\")\n",
    "\n",
    "plt.legend()"
   ]
  },
  {
   "cell_type": "markdown",
   "metadata": {},
   "source": [
    "Consider now kernel regression.\n",
    "<br>\n",
    "1. Consider first the scalar product kernel\n",
    "\n",
    "$$\n",
    "K(x_i, x_j) = x_i x_j + 1\n",
    "$$\n",
    "\n",
    "Compute the regression function and compare the result with the ones obtained at the previous point. How to the results compare?\n",
    "<br>\n",
    "2. Consider then the higher-order scalar product kernel, for q > 1.\n",
    "\n",
    "$$\n",
    "K(x_i, x_j) = (x_i x_j + 1)^q.\n",
    "$$\n",
    "\n",
    "3. Consider finally a Gaussian kernel, for $\\sigma > 0$.\n",
    "\n",
    "$$\n",
    "K(x_i, x_j) = e^{-\\frac{(x_i - x_j)^2}{2\\sigma^2}}\n",
    "$$"
   ]
  },
  {
   "cell_type": "code",
   "execution_count": null,
   "metadata": {},
   "outputs": [],
   "source": [
    "lam = 1.0\n",
    "\n",
    "def kernel(xi, xj):\n",
    "    return (xi*xj + 1) **6\n",
    "\n",
    "K = np. array ([[kernel(X[i], X[j]) for j in range(N)] for i in range (N)])\n",
    "alpha = np.linalg.solve(K + lam * np.eye(N), Y)\n",
    "K_test = np. array ([[kernel(X_test[i], X[j]) for j in range(N)] for i in range(N_test)])\n",
    "Y_test_KR = K_test @ alpha\n",
    "\n",
    "plt.scatter(X, Y, label=\"data\") \n",
    "plt.plot(X_test, Y_test_ex, \"r--\", label=\"$y_{ex}(x)$\")\n",
    "plt.plot(X_test, Y_test, \"g:\", label=\"Ridge regression\")\n",
    "plt.plot(X_test, Y_test_KR, \"b:\", label=\"Kernel regression\")\n",
    "\n",
    "plt.legend()"
   ]
  }
 ],
 "metadata": {
  "kernelspec": {
   "display_name": "Python 3",
   "language": "python",
   "name": "python3"
  },
  "language_info": {
   "codemirror_mode": {
    "name": "ipython",
    "version": 3
   },
   "file_extension": ".py",
   "mimetype": "text/x-python",
   "name": "python",
   "nbconvert_exporter": "python",
   "pygments_lexer": "ipython3",
   "version": "3.12.5"
  }
 },
 "nbformat": 4,
 "nbformat_minor": 2
}
