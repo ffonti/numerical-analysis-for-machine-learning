{
 "cells": [
  {
   "cell_type": "markdown",
   "metadata": {},
   "source": [
    "Write a function to compute the length and the area of a circle of radius r."
   ]
  },
  {
   "cell_type": "code",
   "execution_count": 6,
   "metadata": {},
   "outputs": [
    {
     "data": {
      "text/plain": [
       "(18.84955592153876, 28.274333882308138)"
      ]
     },
     "execution_count": 6,
     "metadata": {},
     "output_type": "execute_result"
    }
   ],
   "source": [
    "def circle1(r):\n",
    "    import math\n",
    "    L = 2 * math.pi * r\n",
    "    A = math.pi * r ** 2\n",
    "    return L, A\n",
    "\n",
    "circle1(3)"
   ]
  },
  {
   "cell_type": "markdown",
   "metadata": {},
   "source": [
    "Write a function that computes the lengths of the edges b and c of a right triangle given the length of the hypotenuse a and the aplitude of the angle alpha."
   ]
  },
  {
   "cell_type": "code",
   "execution_count": null,
   "metadata": {},
   "outputs": [],
   "source": [
    "import math as mt\n",
    "\n",
    "def edges(a, alpha):\n",
    "    c = a * mt.sin(alpha)\n",
    "    b = a * mt.cos(alpha)\n",
    "    return b, c"
   ]
  },
  {
   "cell_type": "markdown",
   "metadata": {},
   "source": [
    "We want to write a function that is able to perform converion from Fahrenheit to Kelvin and vice versa."
   ]
  },
  {
   "cell_type": "code",
   "execution_count": null,
   "metadata": {},
   "outputs": [],
   "source": [
    "def convtemp(temp):\n",
    "    temp_value = float(temp[0:-1])\n",
    "    temp_type = temp[-1]\n",
    "    \n",
    "    if temp_type == 'K':\n",
    "        out_temp = 1.8 * (temp_value - 273.15) + 32\n",
    "    elif temp_type == 'F':\n",
    "        out_temp = (temp_value - 32) / 1.8 + 273.15\n",
    "    return out_temp"
   ]
  },
  {
   "cell_type": "markdown",
   "metadata": {},
   "source": [
    "Let us compute the machine epsilon eps using while. Remember that the definition of e is the smallest number such that 1 != 1 + e."
   ]
  },
  {
   "cell_type": "code",
   "execution_count": 9,
   "metadata": {},
   "outputs": [
    {
     "name": "stdout",
     "output_type": "stream",
     "text": [
      "1.1102230246251565e-16\n"
     ]
    }
   ],
   "source": [
    "e = 1.0\n",
    "while(1+e != 1):\n",
    "    e = e / 2\n",
    "print(e)"
   ]
  },
  {
   "cell_type": "code",
   "execution_count": 11,
   "metadata": {},
   "outputs": [
    {
     "name": "stdout",
     "output_type": "stream",
     "text": [
      "2.220446049250313e-16\n"
     ]
    }
   ],
   "source": [
    "import numpy as np\n",
    "print(np.finfo(float).eps)"
   ]
  },
  {
   "cell_type": "markdown",
   "metadata": {},
   "source": [
    "Write a functionthat converts a Roman number to decimal format."
   ]
  },
  {
   "cell_type": "code",
   "execution_count": 15,
   "metadata": {},
   "outputs": [
    {
     "data": {
      "text/plain": [
       "91"
      ]
     },
     "execution_count": 15,
     "metadata": {},
     "output_type": "execute_result"
    }
   ],
   "source": [
    "def Roman2Decimal(Roman):\n",
    "    symbols = {\n",
    "        'I': 1,\n",
    "        'V': 5,\n",
    "        'X': 10,\n",
    "        'L': 50,\n",
    "        'C': 100,\n",
    "        'D': 500,\n",
    "        'M': 1000\n",
    "    }\n",
    "    Decimal = 0\n",
    "    for i in range(len(Roman) - 1):\n",
    "        left = Roman[i]\n",
    "        right = Roman[i + 1]\n",
    "        if symbols[left] < symbols[right]:\n",
    "            Decimal -= symbols[left]\n",
    "        else:\n",
    "            Decimal += symbols[left]\n",
    "    Decimal += symbols[Roman[-1]]\n",
    "    return Decimal\n",
    "\n",
    "Roman2Decimal('XCI')"
   ]
  },
  {
   "cell_type": "markdown",
   "metadata": {},
   "source": [
    "Write a Python function that converts an integer to its binary format.<br>\n",
    "Hint: Consider the following example where we want to convert 13 to its binary format:<br>\n",
    "13/2 = 6 remainder 1<br>\n",
    "6/2 = 3 remainder 0<br>\n",
    "3/2 = 1 remainder 1<br>\n",
    "1/2 = 0 remainder 1<br>\n",
    "now let us take the remainders in reverse order i.e. 1101, which is the binary format of 13.\n",
    "The remainder of an integer division is obtained using the operator % and the integer part of the result of a division can be obtained using int."
   ]
  },
  {
   "cell_type": "code",
   "execution_count": 16,
   "metadata": {},
   "outputs": [
    {
     "name": "stdout",
     "output_type": "stream",
     "text": [
      "1101\n"
     ]
    }
   ],
   "source": [
    "def int_to_binary(n):\n",
    "    if n == 0:\n",
    "        return \"0\"\n",
    "    \n",
    "    binary = \"\"\n",
    "    while n > 0:\n",
    "        remainder = n % 2\n",
    "        binary = str(remainder) + binary\n",
    "        n = n // 2\n",
    "    \n",
    "    return binary\n",
    "\n",
    "print(int_to_binary(13))"
   ]
  }
 ],
 "metadata": {
  "kernelspec": {
   "display_name": "Python 3",
   "language": "python",
   "name": "python3"
  },
  "language_info": {
   "codemirror_mode": {
    "name": "ipython",
    "version": 3
   },
   "file_extension": ".py",
   "mimetype": "text/x-python",
   "name": "python",
   "nbconvert_exporter": "python",
   "pygments_lexer": "ipython3",
   "version": "3.12.5"
  }
 },
 "nbformat": 4,
 "nbformat_minor": 2
}
