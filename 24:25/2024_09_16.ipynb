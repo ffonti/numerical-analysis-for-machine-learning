{
  "nbformat": 4,
  "nbformat_minor": 0,
  "metadata": {
    "colab": {
      "provenance": []
    },
    "kernelspec": {
      "name": "python3",
      "display_name": "Python 3"
    },
    "language_info": {
      "name": "python"
    }
  },
  "cells": [
    {
      "cell_type": "markdown",
      "source": [
        "# **Project 1: Kelvin to Fahrenheit**"
      ],
      "metadata": {
        "id": "ekr-3p38bKfM"
      }
    },
    {
      "cell_type": "markdown",
      "source": [
        "**Excercise 1** Write a Python function for converting from Kelvin to Fahrenheit. The formula is $F = 1.8(K - 273.15) + 32$."
      ],
      "metadata": {
        "id": "W4e8Meb-TM_P"
      }
    },
    {
      "cell_type": "code",
      "source": [
        "#Function that converts a Kelvin temperature (string) in a Fahrenheit temperature (float)\n",
        "def convert(kelvin_string):\n",
        "  kelvin = float(kelvin_string) #Cast to float\n",
        "  fahrenheit = 1.8*(kelvin-273.15)+32 #Formula to convert Kelvin in Fahrenheit\n",
        "  return round(fahrenheit, 2) #Round to the second decimal"
      ],
      "metadata": {
        "id": "Gwa4SeSgTqA4"
      },
      "execution_count": null,
      "outputs": []
    },
    {
      "cell_type": "code",
      "source": [
        "kelvin_string = input(\"Enter the temperature in Kelvin: \") #Ask the user the Kelvin temperature\n",
        "fahrenheit = convert(kelvin_string) #Call the previous function\n",
        "print(\"Temperature in Fahrenheit is: \", fahrenheit) #Print the Fahrenheit temperature"
      ],
      "metadata": {
        "colab": {
          "base_uri": "https://localhost:8080/"
        },
        "id": "U-hzNX4zTd20",
        "outputId": "3295bea7-24a5-4273-fcaa-307ed4e3ed8b"
      },
      "execution_count": null,
      "outputs": [
        {
          "output_type": "stream",
          "name": "stdout",
          "text": [
            "Enter the temperature in Kelvin: 200\n",
            "Temperature in Fahrenheit is:  -99.67\n"
          ]
        }
      ]
    },
    {
      "cell_type": "markdown",
      "source": [
        "# **Project 2: wan der Waals equation**"
      ],
      "metadata": {
        "id": "yAEfq_rYa-eP"
      }
    },
    {
      "cell_type": "markdown",
      "source": [
        "The van der Waals equation of state is a modification of the ideal gas law and it takes into account also the molecular size and the molecular interaction forces. This equation can be written as\n",
        "## $[P + a (\\frac{n}{V})^2](V - nb) = nRT$\n",
        "where $P[Pa]$ is the pressure, $V[m^3]$ is the volume, $T[K]$ is the temperature, $n$ is the number of moles, $R=8,314[J/(mol*K)]$ is the gas constant, finally $a[P$$a$ $m^6/mol^2]$ and $b[m^3/mol]$ are the van der Waals coefficients characterizing different gases. In the following table values of $a$ and $b$ are reported for some gases."
      ],
      "metadata": {
        "id": "2BAc8KPnVuhG"
      }
    },
    {
      "cell_type": "markdown",
      "source": [
        "<table>\n",
        "  <tr>\n",
        "    <th>Gas</th>\n",
        "    <th>a</th>\n",
        "    <th>b</th>\n",
        "  </tr>\n",
        "  <tr>\n",
        "    <td>Helium</td>\n",
        "    <td>3.46e-3</td>\n",
        "    <td>23.71e-6</td>\n",
        "  </tr>\n",
        "  <tr>\n",
        "    <td>Neon</td>\n",
        "    <td>2.12e-2</td>\n",
        "    <td>17.10e-6</td>\n",
        "  </tr>\n",
        "  <tr>\n",
        "    <td>Hydrogen</td>\n",
        "    <td>2.45e-2</td>\n",
        "    <td>26.61e-6</td>\n",
        "  </tr>\n",
        "  <tr>\n",
        "    <td>Carbon dioxide</td>\n",
        "    <td>3.96e-1</td>\n",
        "    <td>42.69e-6</td>\n",
        "  </tr>\n",
        "  <tr>\n",
        "    <td>Water vapor</td>\n",
        "    <td>5.47e-1</td>\n",
        "    <td>30.52e-6</td>\n",
        "  </tr>\n",
        "  <tr>\n",
        "    <td>Oxygen</td>\n",
        "    <td>1.38e-1</td>\n",
        "    <td>31.86e-6</td>\n",
        "  </tr>\n",
        "</table>"
      ],
      "metadata": {
        "id": "aToqQPfXYwL0"
      }
    },
    {
      "cell_type": "markdown",
      "source": [
        "**Skills**\n",
        "\n",
        "*   Function with many input parameters\n",
        "*   Help\n",
        "*   Simple formatting\n",
        "*   Optional input arguments and default values\n",
        "*   Positional and keyword arguments\n",
        "\n",
        "**Problem:** write a Python function that computes the pressure given the temperature and the volume for a real gas. The input parameters of the function should be $T, V, n, a$ and $b$; the output is the pressure $P$."
      ],
      "metadata": {
        "id": "q-oSL3o4Z6F9"
      }
    },
    {
      "cell_type": "code",
      "source": [
        "def vanderwaals(T,V,n,a,b):\n",
        "  R = 8.314\n",
        "  P=n*R*T/(V-n*b)-a*n**2/V**2\n",
        "  return P"
      ],
      "metadata": {
        "id": "CCg9dMPVbiSf"
      },
      "execution_count": null,
      "outputs": []
    },
    {
      "cell_type": "markdown",
      "source": [
        "Let us copmute the pressure exerted by $1 mol$ of $O_{2}$ confined in a volume of $0.001$ $m^3$ at $T=273.15K$."
      ],
      "metadata": {
        "id": "lG58ooLWcSx1"
      }
    },
    {
      "cell_type": "code",
      "source": [
        "P = vanderwaals(273.15, 0.001, 1, 1.38e-1, 31.86e-6)\n",
        "print(P)\n",
        "P_sn=\"{:e}\".format(P)\n",
        "print(P_sn)"
      ],
      "metadata": {
        "colab": {
          "base_uri": "https://localhost:8080/"
        },
        "id": "HVJTK7USbjGc",
        "outputId": "1844e186-3d11-4b9d-81c6-008cd2599585"
      },
      "execution_count": null,
      "outputs": [
        {
          "output_type": "stream",
          "name": "stdout",
          "text": [
            "2207703.204082054\n",
            "2.207703e+06\n"
          ]
        }
      ]
    },
    {
      "cell_type": "markdown",
      "source": [
        "Let us now suppose we want to modify the previous function in such a way that, by default, $a$ and $b$ are assigned the values relative to the oxygen and the user can override these default values."
      ],
      "metadata": {
        "id": "NyoFBhXsdcTr"
      }
    },
    {
      "cell_type": "code",
      "source": [
        "def vanderwaals(T,V,n,a=1.38e-1,b=31.86e-6):\n",
        "  R = 8.314\n",
        "  P=n*R*T/(V-n*b)-a*n**2/V**2\n",
        "  return P"
      ],
      "metadata": {
        "id": "lgz4pzsUdib0"
      },
      "execution_count": null,
      "outputs": []
    },
    {
      "cell_type": "code",
      "source": [
        "P = vanderwaals(273.15, 0.001, 1)\n",
        "print(P)\n",
        "P_sn=\"{:e}\".format(P)\n",
        "print(P_sn)"
      ],
      "metadata": {
        "colab": {
          "base_uri": "https://localhost:8080/"
        },
        "id": "D2tRxqpodoZX",
        "outputId": "3be0404a-bbdc-43c8-8492-1723b88edcf7"
      },
      "execution_count": null,
      "outputs": [
        {
          "output_type": "stream",
          "name": "stdout",
          "text": [
            "2207703.204082054\n",
            "2.207703e+06\n"
          ]
        }
      ]
    }
  ]
}